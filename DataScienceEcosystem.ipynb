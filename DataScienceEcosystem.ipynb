{
  "nbformat": 4,
  "nbformat_minor": 0,
  "metadata": {
    "colab": {
      "provenance": [],
      "authorship_tag": "ABX9TyMSs0u6V4V2xeuzh7Ok086U",
      "include_colab_link": true
    },
    "kernelspec": {
      "name": "python3",
      "display_name": "Python 3"
    },
    "language_info": {
      "name": "python"
    }
  },
  "cells": [
    {
      "cell_type": "markdown",
      "metadata": {
        "id": "view-in-github",
        "colab_type": "text"
      },
      "source": [
        "<a href=\"https://colab.research.google.com/github/Faizansa2000/PublicProjects/blob/main/DataScienceEcosystem.ipynb\" target=\"_parent\"><img src=\"https://colab.research.google.com/assets/colab-badge.svg\" alt=\"Open In Colab\"/></a>"
      ]
    },
    {
      "cell_type": "markdown",
      "source": [
        "#Data Science Tools and Ecosystem"
      ],
      "metadata": {
        "id": "Bg_VqlP5aXMv"
      }
    },
    {
      "cell_type": "markdown",
      "source": [
        "In this notebook, Data Science Tools and Ecosystem are summarized."
      ],
      "metadata": {
        "id": "IF32O4O8a1_h"
      }
    },
    {
      "cell_type": "markdown",
      "source": [
        "**Objectives:**"
      ],
      "metadata": {
        "id": "EsH8KXEVfHIi"
      }
    },
    {
      "cell_type": "markdown",
      "source": [
        "\n",
        "\n",
        "*   List popular languages for Data Science\n",
        "*   List commonly used libraries for Data Science\n",
        "*   List Data Science Tools\n",
        "*Write a mathematical expression\n",
        "\n"
      ],
      "metadata": {
        "id": "KLENX7wxfVSm"
      }
    },
    {
      "cell_type": "markdown",
      "source": [
        "Some of the popular languages that Data Scientists use are:\n"
      ],
      "metadata": {
        "id": "A2Ycsj7lbGla"
      }
    },
    {
      "cell_type": "markdown",
      "source": [
        "\n",
        "\n",
        "1.   Python\n",
        "2.   R\n",
        "3.   SQL\n",
        "\n"
      ],
      "metadata": {
        "id": "nZNW2zS2bIQ2"
      }
    },
    {
      "cell_type": "markdown",
      "source": [
        "Some of the commonly used libraries used by Data Scientists include:"
      ],
      "metadata": {
        "id": "hYrRNE_3bmMh"
      }
    },
    {
      "cell_type": "markdown",
      "source": [
        "\n",
        "\n",
        "1.   Numpy\n",
        "2.   Scikit-learn\n",
        "3.   Pandas\n",
        "\n",
        "\n",
        "\n"
      ],
      "metadata": {
        "id": "I9Qyt7BFbpRf"
      }
    },
    {
      "cell_type": "markdown",
      "source": [
        "| Data Science Tools |\n",
        "| -------- |\n",
        "|Jupyter Notebooks|\n",
        "|Visual Studio Code|\n",
        "|Github|"
      ],
      "metadata": {
        "id": "oyyrPRLrcx3y"
      }
    },
    {
      "cell_type": "markdown",
      "source": [
        "###Below are a few examples of evaluating arithmetic expressions in Python."
      ],
      "metadata": {
        "id": "Aj0AM1xndyJl"
      }
    },
    {
      "cell_type": "code",
      "source": [
        "#This a simple arithmetic expression to mutiply then add integers\n",
        "(3*4)+5"
      ],
      "metadata": {
        "colab": {
          "base_uri": "https://localhost:8080/"
        },
        "id": "voHeUEQleBtE",
        "outputId": "55e07d94-e21a-4a2f-a5d3-a3b11fe87efc"
      },
      "execution_count": 7,
      "outputs": [
        {
          "output_type": "execute_result",
          "data": {
            "text/plain": [
              "17"
            ]
          },
          "metadata": {},
          "execution_count": 7
        }
      ]
    },
    {
      "cell_type": "code",
      "source": [
        "#This will convert 200 minutes to hours by diving by 60\n",
        "200/60"
      ],
      "metadata": {
        "colab": {
          "base_uri": "https://localhost:8080/"
        },
        "id": "OqY2Nij-eCDH",
        "outputId": "16bf1c3b-74f7-46ef-d15a-e0e1bb553b31"
      },
      "execution_count": 10,
      "outputs": [
        {
          "output_type": "execute_result",
          "data": {
            "text/plain": [
              "3.3333333333333335"
            ]
          },
          "metadata": {},
          "execution_count": 10
        }
      ]
    },
    {
      "cell_type": "markdown",
      "source": [
        "##Author\n",
        "Faizan"
      ],
      "metadata": {
        "id": "MZlsOWUCgUpG"
      }
    },
    {
      "cell_type": "markdown",
      "source": [],
      "metadata": {
        "id": "QIRGvsyggT7T"
      }
    }
  ]
}